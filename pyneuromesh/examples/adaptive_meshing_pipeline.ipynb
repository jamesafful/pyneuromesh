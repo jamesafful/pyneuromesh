{
 "cells": [
  {
   "cell_type": "markdown",
   "id": "d1697b5b",
   "metadata": {},
   "source": [
    "# PyNeuroMesh: Adaptive Meshing Pipeline\n",
    "This notebook demonstrates how to use a neural SDF model and a refinement network to generate an adaptive mesh."
   ]
  },
  {
   "cell_type": "code",
   "execution_count": null,
   "id": "a8576bb3",
   "metadata": {},
   "outputs": [],
   "source": [
    "# Install dependencies (Colab only)\n",
    "!pip install torch numpy trimesh matplotlib scikit-image gmsh"
   ]
  },
  {
   "cell_type": "code",
   "execution_count": null,
   "id": "34f6ba86",
   "metadata": {},
   "outputs": [],
   "source": [
    "# Import modules\n",
    "import torch\n",
    "from pyneuromesh.geometry.sdf_networks import SDFNetwork\n",
    "from pyneuromesh.meshing.sdf_to_mesh import sample_sdf_on_grid, sdf_to_mesh\n",
    "from pyneuromesh.refinement.refine_net import RefineNet\n",
    "from pyneuromesh.refinement.apply_refine_net import make_density_function\n",
    "import matplotlib.pyplot as plt"
   ]
  },
  {
   "cell_type": "code",
   "execution_count": null,
   "id": "de432e23",
   "metadata": {},
   "outputs": [],
   "source": [
    "# Load SDF Network\n",
    "sdf_model = SDFNetwork()\n",
    "sdf_vals, (x, y, z) = sample_sdf_on_grid(sdf_model, grid_res=64)\n",
    "\n",
    "# Visualize middle slice\n",
    "import numpy as np\n",
    "plt.imshow(sdf_vals[:, :, sdf_vals.shape[2] // 2], cmap='coolwarm')\n",
    "plt.title(\"SDF Slice (Z-axis)\")\n",
    "plt.colorbar()\n",
    "plt.show()"
   ]
  },
  {
   "cell_type": "code",
   "execution_count": null,
   "id": "25518c3a",
   "metadata": {},
   "outputs": [],
   "source": [
    "# Optional: Visualize mesh with trimesh\n",
    "from pyneuromesh.meshing.sdf_to_mesh import sdf_to_mesh\n",
    "import trimesh\n",
    "\n",
    "mesh = sdf_to_mesh(sdf_vals, (x, y, z))\n",
    "mesh.show()"
   ]
  },
  {
   "cell_type": "code",
   "execution_count": null,
   "id": "a2fbf5a3",
   "metadata": {},
   "outputs": [],
   "source": [
    "# Load refinement model (optional, needs pre-trained .pt file)\n",
    "refine_net = RefineNet()\n",
    "# refine_net.load_state_dict(torch.load(\"refine_net.pt\"))\n",
    "density_fn = make_density_function(refine_net)\n",
    "# You could now integrate density_fn into GmshMesher (see CLI example)"
   ]
  }
 ],
 "metadata": {},
 "nbformat": 4,
 "nbformat_minor": 5
}
